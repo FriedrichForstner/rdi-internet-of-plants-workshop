{
 "cells": [
  {
   "cell_type": "code",
   "execution_count": null,
   "metadata": {},
   "outputs": [],
   "source": [
    "\"\"\"Exploration code for ReDI's InternetoPlants for kids workshop. \n",
    "   Sensing plant related environmental paramters with Arduino and \n",
    "   recording/plotting/processing them.\"\"\"\n",
    "\n",
    "__author__      = \"ReDI School Munich\"\n",
    "__copyright__   = \"GPLv3\""
   ]
  },
  {
   "cell_type": "code",
   "execution_count": 71,
   "metadata": {},
   "outputs": [],
   "source": [
    "import serial\n",
    "import pandas\n",
    "import matplotlib.pyplot as pyplot"
   ]
  },
  {
   "cell_type": "code",
   "execution_count": 86,
   "metadata": {},
   "outputs": [
    {
     "name": "stdout",
     "output_type": "stream",
     "text": [
      "{'air_temperature': 25.01, 'air_humidty': 50.48}\n",
      "{'air_temperature': 25.01, 'air_humidty': 50.42}\n",
      "{'air_temperature': 25.01, 'air_humidty': 50.36}\n",
      "{'air_temperature': 25.0, 'air_humidty': 50.33}\n",
      "{'air_temperature': 25.0, 'air_humidty': 50.35}\n",
      "{'air_temperature': 25.0, 'air_humidty': 50.51}\n",
      "{'air_temperature': 24.99, 'air_humidty': 50.68}\n",
      "{'air_temperature': 24.99, 'air_humidty': 50.81}\n",
      "{'air_temperature': 24.99, 'air_humidty': 50.88}\n",
      "{'air_temperature': 24.99, 'air_humidty': 50.98}\n",
      "{'air_temperature': 25.42, 'air_humidty': 52.0}\n",
      "{'air_temperature': 25.69, 'air_humidty': 56.34}\n",
      "{'air_temperature': 25.83, 'air_humidty': 61.29}\n",
      "Interrupt\n"
     ]
    }
   ],
   "source": [
    "# configure serial port\n",
    "serial_port = '/dev/tty.usbmodem14201'\n",
    "\n",
    "# initialise serial interface\n",
    "ser = serial.Serial(serial_port)\n",
    "ser.flushInput()\n",
    "\n",
    "# name and sequence of data\n",
    "sensor_parameter = [\"air_temperature\", \"air_humidty\", \"soil_humidity\", \"brightness\"]\n",
    "\n",
    "# init data array\n",
    "sensor_data_panda = pandas.DataFrame(columns=sensor_parameter)\n",
    "\n",
    "while True:\n",
    "    try:\n",
    "        # read serial byte data\n",
    "        sensor_data_raw = ser.readline()\n",
    "        # convert byte data to UTF string\n",
    "        sensor_data_str = sensor_data_raw[0:len(sensor_data_raw)-2].decode(\"utf-8\")\n",
    "        # convert UTF string to array\n",
    "        sensor_data_arr = sensor_data_str.split(\",\")\n",
    "        # length fits to parameter names, parse and store\n",
    "        if len(sensor_data_arr) == len(sensor_parameter):\n",
    "            # parse\n",
    "            sensor_data_dict = {sensor_parameter[i]:float(sensor_data_arr[i]) for i in range(len(sensor_parameter))}\n",
    "            # store\n",
    "            sensor_data_panda = sensor_data_panda.append(sensor_data_dict,ignore_index=True)\n",
    "        else:\n",
    "            print(\"Sensor array length does match expected number of parameters.\")\n",
    "    #     # live plotting, not available in jupyter (this way)\n",
    "    #     if len(sensor_data_panda)==1:\n",
    "    #         data_axis = sensor_data_panda.plot()\n",
    "    #     elif len(sensor_data_panda)>0 and len(sensor_data_panda)%5==0:\n",
    "    #         sensor_data_panda.plot(ax=data_axis)\n",
    "    #         pyplot.pause(0.05)\n",
    "        print(sensor_data_dict)\n",
    "    except:\n",
    "        print(\"Interrupt\")\n",
    "        ser.close()\n",
    "        break\n",
    "plt.show()"
   ]
  },
  {
   "cell_type": "code",
   "execution_count": 87,
   "metadata": {},
   "outputs": [
    {
     "data": {
      "text/plain": [
       "<matplotlib.axes._subplots.AxesSubplot at 0x123b9deb8>"
      ]
     },
     "execution_count": 87,
     "metadata": {},
     "output_type": "execute_result"
    },
    {
     "data": {
      "image/png": "[encoded data removed]",
      "text/plain": [
       "<Figure size 432x288 with 1 Axes>"
      ]
     },
     "metadata": {
      "needs_background": "light"
     },
     "output_type": "display_data"
    }
   ],
   "source": [
    "# plotting data\n",
    "# sensor_data_panda.plot()"
   ]
  },
  {
   "cell_type": "code",
   "execution_count": 67,
   "metadata": {},
   "outputs": [],
   "source": []
  }
 ],
 "metadata": {
  "kernelspec": {
   "display_name": "Python 3",
   "language": "python",
   "name": "python3"
  },
  "language_info": {
   "codemirror_mode": {
    "name": "ipython",
    "version": 3
   },
   "file_extension": ".py",
   "mimetype": "text/x-python",
   "name": "python",
   "nbconvert_exporter": "python",
   "pygments_lexer": "ipython3",
   "version": "3.7.3"
  }
 },
 "nbformat": 4,
 "nbformat_minor": 4
}
